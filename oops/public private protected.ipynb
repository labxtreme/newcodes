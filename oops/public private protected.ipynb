{
 "cells": [
  {
   "cell_type": "code",
   "execution_count": 1,
   "metadata": {},
   "outputs": [
    {
     "ename": "SyntaxError",
     "evalue": "invalid syntax (<ipython-input-1-6d9ba4e78f72>, line 13)",
     "output_type": "error",
     "traceback": [
      "\u001b[1;36m  File \u001b[1;32m\"<ipython-input-1-6d9ba4e78f72>\"\u001b[1;36m, line \u001b[1;32m13\u001b[0m\n\u001b[1;33m    print(\"Public attribute :\" one.pvar)\u001b[0m\n\u001b[1;37m                                 ^\u001b[0m\n\u001b[1;31mSyntaxError\u001b[0m\u001b[1;31m:\u001b[0m invalid syntax\n"
     ]
    }
   ],
   "source": [
    "class one:\n",
    "    pvar=\"public\"\n",
    "    _pvar=\"protected\"\n",
    "    __pvar=\"private\"\n",
    "    def __init__(self,x,y):\n",
    "        self.x=x #object variable\n",
    "        self.y=y #object attribute\n",
    "    def show(self):\n",
    "        for key,value in self.items():\n",
    "            print(\"{} = {}\".format(key,value))\n",
    "    def class_show(self):\n",
    "            print(\"class attributes are: {common or shared variables }\")\n",
    "            print(\"Public attribute :\" one.pvar)\n",
    "            print(\"Protected attribute :\" one._pvar)\n",
    "            print(\"Private attribute :\" one.__pvar)\n",
    "    def set_val(self):\n",
    "        self.x=input(\"New value for x\")\n",
    "        self.y=input(\"New value for y\")\n",
    "    def set_class(self):\n",
    "        one.pvar=input(\"New Public variable:\")\n",
    "        one._pvar=input(\"New Protected variable:\")\n",
    "        one.__pvar=input(\"New Private variable:\")\n",
    "        "
   ]
  },
  {
   "cell_type": "code",
   "execution_count": null,
   "metadata": {
    "collapsed": true
   },
   "outputs": [],
   "source": []
  }
 ],
 "metadata": {
  "kernelspec": {
   "display_name": "Python 3",
   "language": "python",
   "name": "python3"
  },
  "language_info": {
   "codemirror_mode": {
    "name": "ipython",
    "version": 3
   },
   "file_extension": ".py",
   "mimetype": "text/x-python",
   "name": "python",
   "nbconvert_exporter": "python",
   "pygments_lexer": "ipython3",
   "version": "3.6.3"
  }
 },
 "nbformat": 4,
 "nbformat_minor": 2
}
