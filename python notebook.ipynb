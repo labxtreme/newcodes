{
 "cells": [
  {
   "cell_type": "markdown",
   "metadata": {},
   "source": [
    "# For loop in python"
   ]
  },
  {
   "cell_type": "code",
   "execution_count": 1,
   "metadata": {},
   "outputs": [
    {
     "name": "stdout",
     "output_type": "stream",
     "text": [
      "0\t5\t10\t15\t20\t25\t30\t35\t40\t45\t50\t55\t60\t65\t70\t75\t80\t85\t90\t95\t100\t"
     ]
    }
   ],
   "source": [
    "c=0\n",
    "while c <= 100:\n",
    "    print(c,end='\\t')\n",
    "    c=c+5"
   ]
  },
  {
   "cell_type": "code",
   "execution_count": 2,
   "metadata": {},
   "outputs": [
    {
     "name": "stdout",
     "output_type": "stream",
     "text": [
      "h\n",
      "e\n",
      "l\n",
      "l\n",
      "o\n",
      " \n",
      "w\n",
      "o\n",
      "r\n",
      "l\n",
      "d\n"
     ]
    }
   ],
   "source": [
    "s='hello world'\n",
    "for var in s:\n",
    "    print(var)"
   ]
  },
  {
   "cell_type": "code",
   "execution_count": 3,
   "metadata": {},
   "outputs": [
    {
     "name": "stdout",
     "output_type": "stream",
     "text": [
      "Enter the limit to fabbinoci series : 20\n",
      "0 1 1 2 3 5 8 13 21 34 55 89 144 233 377 610 987 1597 2584 4181 "
     ]
    }
   ],
   "source": [
    "i=int(input(\"Enter the limit to fabbinoci series : \"))\n",
    "a=0\n",
    "b=1\n",
    "print(a,end=\" \")\n",
    "print(b,end=\" \")\n",
    "i=i-2\n",
    "while(i>0):\n",
    "    c=a+b\n",
    "    a=b\n",
    "    b=c\n",
    "    print(b,end=\" \")\n",
    "    i=i-1\n"
   ]
  },
  {
   "cell_type": "code",
   "execution_count": 7,
   "metadata": {},
   "outputs": [
    {
     "name": "stdout",
     "output_type": "stream",
     "text": [
      "Enter a Number : 78\n",
      "78X1=78\n",
      "78X2=156\n",
      "78X3=234\n",
      "78X5=390\n",
      "78X6=468\n",
      "78X7=546\n",
      "78X8=624\n",
      "78X9=702\n",
      "78X10=780\n"
     ]
    }
   ],
   "source": [
    "num=int(input(\"Enter a Number : \"))\n",
    "s=[1,2,3,5,6,7,8,9,10]\n",
    "for var in s:\n",
    "    print(\"{}X{}={}\".format(num,var,num*int(var)))\n"
   ]
  },
  {
   "cell_type": "code",
   "execution_count": 10,
   "metadata": {},
   "outputs": [
    {
     "name": "stdout",
     "output_type": "stream",
     "text": [
      "Enter a Number : 12\n",
      "12X1=12\n",
      "12X2=24\n",
      "12X3=36\n",
      "12X4=48\n",
      "12X5=60\n",
      "12X6=72\n",
      "12X7=84\n",
      "12X8=96\n",
      "12X9=108\n",
      "12X10=120\n"
     ]
    }
   ],
   "source": [
    "num=int(input(\"Enter a Number : \"))\n",
    "for var in range(num,num*11,num):\n",
    "    print(\"{}X{}={}\".format(num,var//num,var))"
   ]
  },
  {
   "cell_type": "code",
   "execution_count": null,
   "metadata": {},
   "outputs": [],
   "source": [
    "x=int(input(\"enter a number\"))\n",
    "y=x\n",
    "temp=0\n",
    "while y:\n",
    "    temp=temp*10+y%10\n",
    "    y=y//10\n",
    "if temp==y:\n",
    "    print(\"palindrome\")\n",
    "else:\n",
    "    print(\"not palindrome\")"
   ]
  },
  {
   "cell_type": "code",
   "execution_count": null,
   "metadata": {
    "collapsed": true
   },
   "outputs": [],
   "source": []
  }
 ],
 "metadata": {
  "kernelspec": {
   "display_name": "Python 3",
   "language": "python",
   "name": "python3"
  },
  "language_info": {
   "codemirror_mode": {
    "name": "ipython",
    "version": 3
   },
   "file_extension": ".py",
   "mimetype": "text/x-python",
   "name": "python",
   "nbconvert_exporter": "python",
   "pygments_lexer": "ipython3",
   "version": "3.6.3"
  }
 },
 "nbformat": 4,
 "nbformat_minor": 2
}
